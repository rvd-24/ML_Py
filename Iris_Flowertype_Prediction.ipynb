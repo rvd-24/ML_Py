{
 "cells": [
  {
   "cell_type": "code",
   "execution_count": 48,
   "id": "c28a59ad",
   "metadata": {},
   "outputs": [],
   "source": [
    "%matplotlib inline \n",
    "import matplotlib.pyplot as plt\n",
    "import seaborn as sns\n",
    "import numpy as np\n",
    "from sklearn.datasets import load_iris"
   ]
  },
  {
   "cell_type": "code",
   "execution_count": 3,
   "id": "0bbe0e63",
   "metadata": {},
   "outputs": [],
   "source": [
    "iris=load_iris()"
   ]
  },
  {
   "cell_type": "code",
   "execution_count": 4,
   "id": "a08a67b8",
   "metadata": {},
   "outputs": [
    {
     "data": {
      "text/plain": [
       "['DESCR',\n",
       " 'data',\n",
       " 'data_module',\n",
       " 'feature_names',\n",
       " 'filename',\n",
       " 'frame',\n",
       " 'target',\n",
       " 'target_names']"
      ]
     },
     "execution_count": 4,
     "metadata": {},
     "output_type": "execute_result"
    }
   ],
   "source": [
    "dir(iris)"
   ]
  },
  {
   "cell_type": "code",
   "execution_count": 39,
   "id": "f5d15e15",
   "metadata": {},
   "outputs": [
    {
     "data": {
      "text/plain": [
       "array([5.1, 3.5, 1.4, 0.2])"
      ]
     },
     "execution_count": 39,
     "metadata": {},
     "output_type": "execute_result"
    }
   ],
   "source": [
    "iris.data[0]"
   ]
  },
  {
   "cell_type": "code",
   "execution_count": 19,
   "id": "b9bb7848",
   "metadata": {},
   "outputs": [
    {
     "data": {
      "text/plain": [
       "['sepal length (cm)',\n",
       " 'sepal width (cm)',\n",
       " 'petal length (cm)',\n",
       " 'petal width (cm)']"
      ]
     },
     "execution_count": 19,
     "metadata": {},
     "output_type": "execute_result"
    }
   ],
   "source": [
    "iris.feature_names"
   ]
  },
  {
   "cell_type": "code",
   "execution_count": 20,
   "id": "0514ad41",
   "metadata": {},
   "outputs": [
    {
     "data": {
      "text/plain": [
       "array(['setosa', 'versicolor', 'virginica'], dtype='<U10')"
      ]
     },
     "execution_count": 20,
     "metadata": {},
     "output_type": "execute_result"
    }
   ],
   "source": [
    "iris.target_names"
   ]
  },
  {
   "cell_type": "code",
   "execution_count": 21,
   "id": "d3bc3ac1",
   "metadata": {},
   "outputs": [],
   "source": [
    "from sklearn.model_selection import train_test_split"
   ]
  },
  {
   "cell_type": "code",
   "execution_count": 22,
   "id": "97b87449",
   "metadata": {},
   "outputs": [],
   "source": [
    "X_train,X_test,y_train,y_test=train_test_split(iris.data,iris.target,test_size=0.2)"
   ]
  },
  {
   "cell_type": "code",
   "execution_count": 26,
   "id": "2ed394f7",
   "metadata": {},
   "outputs": [
    {
     "data": {
      "text/plain": [
       "120"
      ]
     },
     "execution_count": 26,
     "metadata": {},
     "output_type": "execute_result"
    }
   ],
   "source": [
    "len(X_train)"
   ]
  },
  {
   "cell_type": "code",
   "execution_count": 24,
   "id": "bad9c877",
   "metadata": {},
   "outputs": [
    {
     "data": {
      "text/plain": [
       "30"
      ]
     },
     "execution_count": 24,
     "metadata": {},
     "output_type": "execute_result"
    }
   ],
   "source": [
    "len(X_test)"
   ]
  },
  {
   "cell_type": "code",
   "execution_count": 27,
   "id": "81769c19",
   "metadata": {},
   "outputs": [],
   "source": [
    "from sklearn.linear_model  import LogisticRegression\n",
    "model=LogisticRegression(solver = \"newton-cg\", multi_class=\"auto\")"
   ]
  },
  {
   "cell_type": "code",
   "execution_count": 28,
   "id": "f2ca3a3b",
   "metadata": {},
   "outputs": [
    {
     "data": {
      "text/plain": [
       "LogisticRegression(solver='newton-cg')"
      ]
     },
     "execution_count": 28,
     "metadata": {},
     "output_type": "execute_result"
    }
   ],
   "source": [
    "model.fit(X_train,y_train)"
   ]
  },
  {
   "cell_type": "code",
   "execution_count": 29,
   "id": "7266d1e1",
   "metadata": {},
   "outputs": [
    {
     "data": {
      "text/plain": [
       "1.0"
      ]
     },
     "execution_count": 29,
     "metadata": {},
     "output_type": "execute_result"
    }
   ],
   "source": [
    "model.score(X_test,y_test)"
   ]
  },
  {
   "cell_type": "code",
   "execution_count": 30,
   "id": "1d4927ba",
   "metadata": {},
   "outputs": [
    {
     "data": {
      "text/plain": [
       "1"
      ]
     },
     "execution_count": 30,
     "metadata": {},
     "output_type": "execute_result"
    }
   ],
   "source": [
    "iris.target[56]"
   ]
  },
  {
   "cell_type": "code",
   "execution_count": 32,
   "id": "47a7b7af",
   "metadata": {},
   "outputs": [
    {
     "data": {
      "text/plain": [
       "array([1])"
      ]
     },
     "execution_count": 32,
     "metadata": {},
     "output_type": "execute_result"
    }
   ],
   "source": [
    "model.predict([iris.data[56]])"
   ]
  },
  {
   "cell_type": "code",
   "execution_count": 41,
   "id": "f255c6ce",
   "metadata": {},
   "outputs": [
    {
     "data": {
      "text/plain": [
       "array([[5.1, 3.5, 1.4, 0.2],\n",
       "       [4.9, 3. , 1.4, 0.2],\n",
       "       [4.7, 3.2, 1.3, 0.2],\n",
       "       [4.6, 3.1, 1.5, 0.2],\n",
       "       [5. , 3.6, 1.4, 0.2]])"
      ]
     },
     "execution_count": 41,
     "metadata": {},
     "output_type": "execute_result"
    }
   ],
   "source": [
    "iris.data[0:5]"
   ]
  },
  {
   "cell_type": "code",
   "execution_count": 34,
   "id": "e5e6eb64",
   "metadata": {},
   "outputs": [
    {
     "data": {
      "text/plain": [
       "array([0, 0, 0, 0, 0])"
      ]
     },
     "execution_count": 34,
     "metadata": {},
     "output_type": "execute_result"
    }
   ],
   "source": [
    "iris.target[0:5]"
   ]
  },
  {
   "cell_type": "code",
   "execution_count": 42,
   "id": "2c1ed4db",
   "metadata": {},
   "outputs": [
    {
     "data": {
      "text/plain": [
       "array(['setosa', 'versicolor', 'virginica'], dtype='<U10')"
      ]
     },
     "execution_count": 42,
     "metadata": {},
     "output_type": "execute_result"
    }
   ],
   "source": [
    "iris.target_names[0:5]"
   ]
  },
  {
   "cell_type": "code",
   "execution_count": 35,
   "id": "7d56b3ec",
   "metadata": {},
   "outputs": [
    {
     "data": {
      "text/plain": [
       "array([0, 0, 0, 0, 0])"
      ]
     },
     "execution_count": 35,
     "metadata": {},
     "output_type": "execute_result"
    }
   ],
   "source": [
    "model.predict(iris.data[0:5])"
   ]
  },
  {
   "cell_type": "code",
   "execution_count": 37,
   "id": "c2a92b78",
   "metadata": {},
   "outputs": [
    {
     "data": {
      "text/plain": [
       "Text(69.0, 0.5, 'Truth')"
      ]
     },
     "execution_count": 37,
     "metadata": {},
     "output_type": "execute_result"
    },
    {
     "data": {
      "image/png": "[encoded data removed]",
      "text/plain": [
       "<Figure size 720x504 with 2 Axes>"
      ]
     },
     "metadata": {
      "needs_background": "light"
     },
     "output_type": "display_data"
    }
   ],
   "source": [
    "#Confusion Matrix Visualizing where model couldn't predict correctly.\n",
    "y_predicted=model.predict(X_test)\n",
    "from sklearn.metrics import confusion_matrix\n",
    "\n",
    "cm=confusion_matrix(y_test,y_predicted)\n",
    "plt.figure(figsize=(10,7))\n",
    "sns.heatmap(cm,annot=True)\n",
    "plt.xlabel('Predicted')\n",
    "plt.ylabel('Truth')"
   ]
  },
  {
   "cell_type": "code",
   "execution_count": null,
   "id": "97cd19fa",
   "metadata": {},
   "outputs": [],
   "source": [
    "#9+11+10=30=len(X_test)"
   ]
  },
  {
   "cell_type": "code",
   "execution_count": 46,
   "id": "5d6cbb6c",
   "metadata": {},
   "outputs": [
    {
     "data": {
      "text/plain": [
       "array([[1.04621778e-02, 9.18721182e-01, 7.08166405e-02],\n",
       "       [9.83890526e-01, 1.61094272e-02, 4.68491850e-08],\n",
       "       [9.71805229e-01, 2.81946434e-02, 1.27506746e-07],\n",
       "       [1.31192491e-06, 9.04954644e-03, 9.90949142e-01],\n",
       "       [7.74409938e-07, 1.55189245e-02, 9.84480301e-01],\n",
       "       [9.74624262e-01, 2.53756795e-02, 5.89175101e-08],\n",
       "       [1.41333877e-01, 8.53947182e-01, 4.71894090e-03],\n",
       "       [3.94045923e-03, 8.33522810e-01, 1.62536731e-01],\n",
       "       [2.27760651e-02, 9.21252510e-01, 5.59714248e-02],\n",
       "       [2.45662662e-03, 7.66549041e-01, 2.30994332e-01],\n",
       "       [9.72927926e-01, 2.70719901e-02, 8.36087936e-08],\n",
       "       [7.79750758e-04, 3.95189675e-01, 6.04030574e-01],\n",
       "       [1.31434135e-03, 3.98986225e-01, 5.99699433e-01],\n",
       "       [2.03669110e-02, 9.44438524e-01, 3.51945648e-02],\n",
       "       [9.82446277e-01, 1.75536847e-02, 3.79458150e-08],\n",
       "       [9.66986466e-01, 3.30131655e-02, 3.68166454e-07],\n",
       "       [4.62452258e-02, 9.42327390e-01, 1.14273845e-02],\n",
       "       [1.35653319e-03, 7.00059117e-01, 2.98584349e-01],\n",
       "       [3.87837277e-06, 1.79383358e-02, 9.82057786e-01],\n",
       "       [8.59490430e-03, 8.38915247e-01, 1.52489849e-01],\n",
       "       [2.62659137e-05, 1.47195787e-01, 8.52777947e-01],\n",
       "       [8.17928751e-09, 1.49015629e-03, 9.98509836e-01],\n",
       "       [1.12607229e-04, 5.86032923e-02, 9.41284101e-01],\n",
       "       [6.87861864e-03, 8.42402376e-01, 1.50719005e-01],\n",
       "       [9.84249405e-01, 1.57505356e-02, 5.96347922e-08],\n",
       "       [9.49710796e-01, 5.02890004e-02, 2.03302881e-07],\n",
       "       [8.20393928e-05, 7.08429530e-02, 9.29075008e-01],\n",
       "       [9.82359393e-01, 1.76405814e-02, 2.60163090e-08],\n",
       "       [3.59329411e-03, 8.72931153e-01, 1.23475553e-01],\n",
       "       [1.30396525e-06, 2.30929640e-02, 9.76905732e-01]])"
      ]
     },
     "execution_count": 46,
     "metadata": {},
     "output_type": "execute_result"
    }
   ],
   "source": [
    "probs_y=model.predict_proba(X_test)\n",
    "probs_y"
   ]
  },
  {
   "cell_type": "code",
   "execution_count": 49,
   "id": "35470f6f",
   "metadata": {},
   "outputs": [
    {
     "data": {
      "text/plain": [
       "array([[0.01, 0.92, 0.07],\n",
       "       [0.98, 0.02, 0.  ],\n",
       "       [0.97, 0.03, 0.  ],\n",
       "       [0.  , 0.01, 0.99],\n",
       "       [0.  , 0.02, 0.98],\n",
       "       [0.97, 0.03, 0.  ],\n",
       "       [0.14, 0.85, 0.  ],\n",
       "       [0.  , 0.83, 0.16],\n",
       "       [0.02, 0.92, 0.06],\n",
       "       [0.  , 0.77, 0.23],\n",
       "       [0.97, 0.03, 0.  ],\n",
       "       [0.  , 0.4 , 0.6 ],\n",
       "       [0.  , 0.4 , 0.6 ],\n",
       "       [0.02, 0.94, 0.04],\n",
       "       [0.98, 0.02, 0.  ],\n",
       "       [0.97, 0.03, 0.  ],\n",
       "       [0.05, 0.94, 0.01],\n",
       "       [0.  , 0.7 , 0.3 ],\n",
       "       [0.  , 0.02, 0.98],\n",
       "       [0.01, 0.84, 0.15],\n",
       "       [0.  , 0.15, 0.85],\n",
       "       [0.  , 0.  , 1.  ],\n",
       "       [0.  , 0.06, 0.94],\n",
       "       [0.01, 0.84, 0.15],\n",
       "       [0.98, 0.02, 0.  ],\n",
       "       [0.95, 0.05, 0.  ],\n",
       "       [0.  , 0.07, 0.93],\n",
       "       [0.98, 0.02, 0.  ],\n",
       "       [0.  , 0.87, 0.12],\n",
       "       [0.  , 0.02, 0.98]])"
      ]
     },
     "execution_count": 49,
     "metadata": {},
     "output_type": "execute_result"
    }
   ],
   "source": [
    "probs_y = np.round(probs_y, 2)\n",
    "probs_y"
   ]
  },
  {
   "cell_type": "code",
   "execution_count": 57,
   "id": "ccbcdfb9",
   "metadata": {},
   "outputs": [
    {
     "name": "stdout",
     "output_type": "stream",
     "text": [
      "y_test     | y_predicted | Setosa(%)  | versicolor(%) | virginica(%)\n",
      "-----------------------------------------------------------------\n",
      "1          | 1          | 0.01       | 0.92          | 0.07      \n",
      "0          | 0          | 0.98       | 0.02          | 0.0       \n",
      "0          | 0          | 0.97       | 0.03          | 0.0       \n",
      "2          | 2          | 0.0        | 0.01          | 0.99      \n",
      "2          | 2          | 0.0        | 0.02          | 0.98      \n",
      "0          | 0          | 0.97       | 0.03          | 0.0       \n",
      "1          | 1          | 0.14       | 0.85          | 0.0       \n",
      "1          | 1          | 0.0        | 0.83          | 0.16      \n",
      "1          | 1          | 0.02       | 0.92          | 0.06      \n",
      "1          | 1          | 0.0        | 0.77          | 0.23      \n",
      "0          | 0          | 0.97       | 0.03          | 0.0       \n",
      "2          | 2          | 0.0        | 0.4           | 0.6       \n",
      "2          | 2          | 0.0        | 0.4           | 0.6       \n",
      "1          | 1          | 0.02       | 0.94          | 0.04      \n",
      "0          | 0          | 0.98       | 0.02          | 0.0       \n",
      "0          | 0          | 0.97       | 0.03          | 0.0       \n",
      "1          | 1          | 0.05       | 0.94          | 0.01      \n",
      "1          | 1          | 0.0        | 0.7           | 0.3       \n",
      "2          | 2          | 0.0        | 0.02          | 0.98      \n",
      "1          | 1          | 0.01       | 0.84          | 0.15      \n",
      "2          | 2          | 0.0        | 0.15          | 0.85      \n",
      "2          | 2          | 0.0        | 0.0           | 1.0       \n",
      "2          | 2          | 0.0        | 0.06          | 0.94      \n",
      "1          | 1          | 0.01       | 0.84          | 0.15      \n",
      "0          | 0          | 0.98       | 0.02          | 0.0       \n",
      "0          | 0          | 0.95       | 0.05          | 0.0       \n",
      "2          | 2          | 0.0        | 0.07          | 0.93      \n",
      "0          | 0          | 0.98       | 0.02          | 0.0       \n",
      "1          | 1          | 0.0        | 0.87          | 0.12      \n",
      "2          | 2          | 0.0        | 0.02          | 0.98      \n",
      "-----------------------------------------------------------------\n",
      "\n"
     ]
    }
   ],
   "source": [
    "res = \"{:<10} | {:<10} | {:<10} | {:<13} | {:<5}\".format(\"y_test\", \"y_predicted\", \"Setosa(%)\", \"versicolor(%)\", \"virginica(%)\\n\")\n",
    "res += \"-\"*65+\"\\n\"\n",
    "res += \"\\n\".join(\"{:<10} | {:<10} | {:<10} | {:<13} | {:<10}\".format(x, y, a, b, c) for x, y, a, b, c in zip(y_test, y_predicted, probs_y[:,0], probs_y[:,1], probs_y[:,2]))\n",
    "res += \"\\n\"+\"-\"*65+\"\\n\"\n",
    "print(res)"
   ]
  },
  {
   "cell_type": "code",
   "execution_count": null,
   "id": "8b8eab60",
   "metadata": {},
   "outputs": [],
   "source": []
  }
 ],
 "metadata": {
  "kernelspec": {
   "display_name": "Python 3",
   "language": "python",
   "name": "python3"
  },
  "language_info": {
   "codemirror_mode": {
    "name": "ipython",
    "version": 3
   },
   "file_extension": ".py",
   "mimetype": "text/x-python",
   "name": "python",
   "nbconvert_exporter": "python",
   "pygments_lexer": "ipython3",
   "version": "3.9.4"
  }
 },
 "nbformat": 4,
 "nbformat_minor": 5
}
